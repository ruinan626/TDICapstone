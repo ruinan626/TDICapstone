{
 "cells": [
  {
   "cell_type": "code",
   "execution_count": 1,
   "metadata": {},
   "outputs": [
    {
     "name": "stderr",
     "output_type": "stream",
     "text": [
      "Using TensorFlow backend.\n"
     ]
    }
   ],
   "source": [
    "import numpy as np\n",
    "import pandas as pd\n",
    "from factor_test import N_tile\n",
    "import matplotlib.pyplot as plt\n",
    "import sys\n",
    "from scipy.stats import randint\n",
    "import matplotlib.pyplot as plt \n",
    "import seaborn as sns  \n",
    "import keras\n",
    "from keras.layers import Dense\n",
    "from keras.models import Sequential\n",
    "from keras.optimizers import SGD \n",
    "from keras.callbacks import EarlyStopping\n",
    "from keras.utils import np_utils\n",
    "import itertools\n",
    "from keras.layers import LSTM\n",
    "from keras.layers import Dropout"
   ]
  },
  {
   "cell_type": "code",
   "execution_count": 2,
   "metadata": {},
   "outputs": [],
   "source": [
    "ticker='BTCUSDT'\n",
    "#%%read data\n",
    "data_train=pd.read_csv('Training_factors_label_V1.csv')\n",
    "data_train.time_index=pd.to_datetime(data_train.time_index)\n",
    "data_train.set_index('time_index',inplace=True)\n",
    "data_train=data_train.iloc[:,1:]\n",
    "\n",
    "data_vali=pd.read_csv('Validation_factors_label_V1.csv')\n",
    "data_vali.time_index=pd.to_datetime(data_vali.time_index)\n",
    "data_vali.set_index('time_index',inplace=True)\n",
    "data_vali=data_vali.iloc[:,1:]"
   ]
  },
  {
   "cell_type": "code",
   "execution_count": 3,
   "metadata": {},
   "outputs": [],
   "source": [
    "#define lookback\n",
    "start_date = data_train.index[0]\n",
    "start_ind = np.where(data_train.index == start_date)[0][0]\n",
    "lag_period = 30\n",
    "\n",
    "def create_lookback_data(df,start_ind, lag_period,y_index,forward_period, dropnan=True):\n",
    "    cols, names = list(), list()\n",
    "    columns = df.columns\n",
    "    n_vars = len(columns)\n",
    "    for i in range(lag_period,-1, -1):\n",
    "        cols.append(df.shift(i))\n",
    "        if i == 0:\n",
    "            names += [('%s(t)' % (columns[j])) for j in range(n_vars)]\n",
    "        else:\n",
    "            names += [('%s(t-%d)' % (columns[j], i)) for j in range(n_vars)]\n",
    "    col_y = columns[y_index]\n",
    "    for i in range(1, forward_period+1):\n",
    "        cols.append(df.iloc[:,y_index].shift(-i))\n",
    "        names += [('%s(t+%d)' % (col_y, i))]\n",
    "    agg = pd.concat(cols, axis=1)\n",
    "    agg.columns = names\n",
    "    if dropnan:\n",
    "        agg.dropna(inplace=True)\n",
    "    return agg.iloc[start_ind:,:]"
   ]
  },
  {
   "cell_type": "code",
   "execution_count": 4,
   "metadata": {},
   "outputs": [
    {
     "data": {
      "text/html": [
       "<div>\n",
       "<style scoped>\n",
       "    .dataframe tbody tr th:only-of-type {\n",
       "        vertical-align: middle;\n",
       "    }\n",
       "\n",
       "    .dataframe tbody tr th {\n",
       "        vertical-align: top;\n",
       "    }\n",
       "\n",
       "    .dataframe thead th {\n",
       "        text-align: right;\n",
       "    }\n",
       "</style>\n",
       "<table border=\"1\" class=\"dataframe\">\n",
       "  <thead>\n",
       "    <tr style=\"text-align: right;\">\n",
       "      <th></th>\n",
       "      <th>label(t-30)</th>\n",
       "      <th>regular_Ceiling_Floors_15(t-30)</th>\n",
       "      <th>regular_Trend_Speed_3(t-30)</th>\n",
       "      <th>regular_Last2_trend(t-30)</th>\n",
       "      <th>irregular_Dynamic_Pressure(t-30)</th>\n",
       "      <th>irregular_liquid_orderbook_slope(t-30)</th>\n",
       "      <th>regular_Consecutive_Large_Order_Flow(t-30)</th>\n",
       "      <th>regular_Ceiling_Floors_9(t-30)</th>\n",
       "      <th>regular_Ceiling_Floors_17(t-30)</th>\n",
       "      <th>regular_Ceiling_Floors_13(t-30)</th>\n",
       "      <th>...</th>\n",
       "      <th>regular_Ceiling_Floors_19(t)</th>\n",
       "      <th>regular_Ceiling_Floors_7(t)</th>\n",
       "      <th>irregular_liquid_hour(t)</th>\n",
       "      <th>label(t+1)</th>\n",
       "      <th>label(t+2)</th>\n",
       "      <th>label(t+3)</th>\n",
       "      <th>label(t+4)</th>\n",
       "      <th>label(t+5)</th>\n",
       "      <th>label(t+6)</th>\n",
       "      <th>label(t+7)</th>\n",
       "    </tr>\n",
       "    <tr>\n",
       "      <th>time_index</th>\n",
       "      <th></th>\n",
       "      <th></th>\n",
       "      <th></th>\n",
       "      <th></th>\n",
       "      <th></th>\n",
       "      <th></th>\n",
       "      <th></th>\n",
       "      <th></th>\n",
       "      <th></th>\n",
       "      <th></th>\n",
       "      <th></th>\n",
       "      <th></th>\n",
       "      <th></th>\n",
       "      <th></th>\n",
       "      <th></th>\n",
       "      <th></th>\n",
       "      <th></th>\n",
       "      <th></th>\n",
       "      <th></th>\n",
       "      <th></th>\n",
       "      <th></th>\n",
       "    </tr>\n",
       "  </thead>\n",
       "  <tbody>\n",
       "    <tr>\n",
       "      <th>2019-01-08 20:27:15.340</th>\n",
       "      <td>NaN</td>\n",
       "      <td>NaN</td>\n",
       "      <td>NaN</td>\n",
       "      <td>NaN</td>\n",
       "      <td>NaN</td>\n",
       "      <td>NaN</td>\n",
       "      <td>NaN</td>\n",
       "      <td>NaN</td>\n",
       "      <td>NaN</td>\n",
       "      <td>NaN</td>\n",
       "      <td>...</td>\n",
       "      <td>0.0</td>\n",
       "      <td>0.0</td>\n",
       "      <td>20.0</td>\n",
       "      <td>0.000529</td>\n",
       "      <td>0.000527</td>\n",
       "      <td>0.000525</td>\n",
       "      <td>0.000524</td>\n",
       "      <td>0.000524</td>\n",
       "      <td>0.000523</td>\n",
       "      <td>0.000522</td>\n",
       "    </tr>\n",
       "    <tr>\n",
       "      <th>2019-01-08 20:27:15.380</th>\n",
       "      <td>NaN</td>\n",
       "      <td>NaN</td>\n",
       "      <td>NaN</td>\n",
       "      <td>NaN</td>\n",
       "      <td>NaN</td>\n",
       "      <td>NaN</td>\n",
       "      <td>NaN</td>\n",
       "      <td>NaN</td>\n",
       "      <td>NaN</td>\n",
       "      <td>NaN</td>\n",
       "      <td>...</td>\n",
       "      <td>0.0</td>\n",
       "      <td>0.0</td>\n",
       "      <td>20.0</td>\n",
       "      <td>0.000527</td>\n",
       "      <td>0.000525</td>\n",
       "      <td>0.000524</td>\n",
       "      <td>0.000524</td>\n",
       "      <td>0.000523</td>\n",
       "      <td>0.000522</td>\n",
       "      <td>0.000512</td>\n",
       "    </tr>\n",
       "    <tr>\n",
       "      <th>2019-01-08 20:27:15.747</th>\n",
       "      <td>NaN</td>\n",
       "      <td>NaN</td>\n",
       "      <td>NaN</td>\n",
       "      <td>NaN</td>\n",
       "      <td>NaN</td>\n",
       "      <td>NaN</td>\n",
       "      <td>NaN</td>\n",
       "      <td>NaN</td>\n",
       "      <td>NaN</td>\n",
       "      <td>NaN</td>\n",
       "      <td>...</td>\n",
       "      <td>0.0</td>\n",
       "      <td>0.0</td>\n",
       "      <td>20.0</td>\n",
       "      <td>0.000525</td>\n",
       "      <td>0.000524</td>\n",
       "      <td>0.000524</td>\n",
       "      <td>0.000523</td>\n",
       "      <td>0.000522</td>\n",
       "      <td>0.000512</td>\n",
       "      <td>0.000509</td>\n",
       "    </tr>\n",
       "    <tr>\n",
       "      <th>2019-01-08 20:27:16.073</th>\n",
       "      <td>NaN</td>\n",
       "      <td>NaN</td>\n",
       "      <td>NaN</td>\n",
       "      <td>NaN</td>\n",
       "      <td>NaN</td>\n",
       "      <td>NaN</td>\n",
       "      <td>NaN</td>\n",
       "      <td>NaN</td>\n",
       "      <td>NaN</td>\n",
       "      <td>NaN</td>\n",
       "      <td>...</td>\n",
       "      <td>0.0</td>\n",
       "      <td>0.0</td>\n",
       "      <td>20.0</td>\n",
       "      <td>0.000524</td>\n",
       "      <td>0.000524</td>\n",
       "      <td>0.000523</td>\n",
       "      <td>0.000522</td>\n",
       "      <td>0.000512</td>\n",
       "      <td>0.000509</td>\n",
       "      <td>0.000509</td>\n",
       "    </tr>\n",
       "    <tr>\n",
       "      <th>2019-01-08 20:27:16.133</th>\n",
       "      <td>NaN</td>\n",
       "      <td>NaN</td>\n",
       "      <td>NaN</td>\n",
       "      <td>NaN</td>\n",
       "      <td>NaN</td>\n",
       "      <td>NaN</td>\n",
       "      <td>NaN</td>\n",
       "      <td>NaN</td>\n",
       "      <td>NaN</td>\n",
       "      <td>NaN</td>\n",
       "      <td>...</td>\n",
       "      <td>0.0</td>\n",
       "      <td>0.0</td>\n",
       "      <td>20.0</td>\n",
       "      <td>0.000524</td>\n",
       "      <td>0.000523</td>\n",
       "      <td>0.000522</td>\n",
       "      <td>0.000512</td>\n",
       "      <td>0.000509</td>\n",
       "      <td>0.000509</td>\n",
       "      <td>0.000508</td>\n",
       "    </tr>\n",
       "  </tbody>\n",
       "</table>\n",
       "<p>5 rows × 1495 columns</p>\n",
       "</div>"
      ],
      "text/plain": [
       "                         label(t-30)  regular_Ceiling_Floors_15(t-30)  \\\n",
       "time_index                                                              \n",
       "2019-01-08 20:27:15.340          NaN                              NaN   \n",
       "2019-01-08 20:27:15.380          NaN                              NaN   \n",
       "2019-01-08 20:27:15.747          NaN                              NaN   \n",
       "2019-01-08 20:27:16.073          NaN                              NaN   \n",
       "2019-01-08 20:27:16.133          NaN                              NaN   \n",
       "\n",
       "                         regular_Trend_Speed_3(t-30)  \\\n",
       "time_index                                             \n",
       "2019-01-08 20:27:15.340                          NaN   \n",
       "2019-01-08 20:27:15.380                          NaN   \n",
       "2019-01-08 20:27:15.747                          NaN   \n",
       "2019-01-08 20:27:16.073                          NaN   \n",
       "2019-01-08 20:27:16.133                          NaN   \n",
       "\n",
       "                         regular_Last2_trend(t-30)  \\\n",
       "time_index                                           \n",
       "2019-01-08 20:27:15.340                        NaN   \n",
       "2019-01-08 20:27:15.380                        NaN   \n",
       "2019-01-08 20:27:15.747                        NaN   \n",
       "2019-01-08 20:27:16.073                        NaN   \n",
       "2019-01-08 20:27:16.133                        NaN   \n",
       "\n",
       "                         irregular_Dynamic_Pressure(t-30)  \\\n",
       "time_index                                                  \n",
       "2019-01-08 20:27:15.340                               NaN   \n",
       "2019-01-08 20:27:15.380                               NaN   \n",
       "2019-01-08 20:27:15.747                               NaN   \n",
       "2019-01-08 20:27:16.073                               NaN   \n",
       "2019-01-08 20:27:16.133                               NaN   \n",
       "\n",
       "                         irregular_liquid_orderbook_slope(t-30)  \\\n",
       "time_index                                                        \n",
       "2019-01-08 20:27:15.340                                     NaN   \n",
       "2019-01-08 20:27:15.380                                     NaN   \n",
       "2019-01-08 20:27:15.747                                     NaN   \n",
       "2019-01-08 20:27:16.073                                     NaN   \n",
       "2019-01-08 20:27:16.133                                     NaN   \n",
       "\n",
       "                         regular_Consecutive_Large_Order_Flow(t-30)  \\\n",
       "time_index                                                            \n",
       "2019-01-08 20:27:15.340                                         NaN   \n",
       "2019-01-08 20:27:15.380                                         NaN   \n",
       "2019-01-08 20:27:15.747                                         NaN   \n",
       "2019-01-08 20:27:16.073                                         NaN   \n",
       "2019-01-08 20:27:16.133                                         NaN   \n",
       "\n",
       "                         regular_Ceiling_Floors_9(t-30)  \\\n",
       "time_index                                                \n",
       "2019-01-08 20:27:15.340                             NaN   \n",
       "2019-01-08 20:27:15.380                             NaN   \n",
       "2019-01-08 20:27:15.747                             NaN   \n",
       "2019-01-08 20:27:16.073                             NaN   \n",
       "2019-01-08 20:27:16.133                             NaN   \n",
       "\n",
       "                         regular_Ceiling_Floors_17(t-30)  \\\n",
       "time_index                                                 \n",
       "2019-01-08 20:27:15.340                              NaN   \n",
       "2019-01-08 20:27:15.380                              NaN   \n",
       "2019-01-08 20:27:15.747                              NaN   \n",
       "2019-01-08 20:27:16.073                              NaN   \n",
       "2019-01-08 20:27:16.133                              NaN   \n",
       "\n",
       "                         regular_Ceiling_Floors_13(t-30)     ...      \\\n",
       "time_index                                                   ...       \n",
       "2019-01-08 20:27:15.340                              NaN     ...       \n",
       "2019-01-08 20:27:15.380                              NaN     ...       \n",
       "2019-01-08 20:27:15.747                              NaN     ...       \n",
       "2019-01-08 20:27:16.073                              NaN     ...       \n",
       "2019-01-08 20:27:16.133                              NaN     ...       \n",
       "\n",
       "                         regular_Ceiling_Floors_19(t)  \\\n",
       "time_index                                              \n",
       "2019-01-08 20:27:15.340                           0.0   \n",
       "2019-01-08 20:27:15.380                           0.0   \n",
       "2019-01-08 20:27:15.747                           0.0   \n",
       "2019-01-08 20:27:16.073                           0.0   \n",
       "2019-01-08 20:27:16.133                           0.0   \n",
       "\n",
       "                         regular_Ceiling_Floors_7(t)  \\\n",
       "time_index                                             \n",
       "2019-01-08 20:27:15.340                          0.0   \n",
       "2019-01-08 20:27:15.380                          0.0   \n",
       "2019-01-08 20:27:15.747                          0.0   \n",
       "2019-01-08 20:27:16.073                          0.0   \n",
       "2019-01-08 20:27:16.133                          0.0   \n",
       "\n",
       "                         irregular_liquid_hour(t)  label(t+1)  label(t+2)  \\\n",
       "time_index                                                                  \n",
       "2019-01-08 20:27:15.340                      20.0    0.000529    0.000527   \n",
       "2019-01-08 20:27:15.380                      20.0    0.000527    0.000525   \n",
       "2019-01-08 20:27:15.747                      20.0    0.000525    0.000524   \n",
       "2019-01-08 20:27:16.073                      20.0    0.000524    0.000524   \n",
       "2019-01-08 20:27:16.133                      20.0    0.000524    0.000523   \n",
       "\n",
       "                         label(t+3)  label(t+4)  label(t+5)  label(t+6)  \\\n",
       "time_index                                                                \n",
       "2019-01-08 20:27:15.340    0.000525    0.000524    0.000524    0.000523   \n",
       "2019-01-08 20:27:15.380    0.000524    0.000524    0.000523    0.000522   \n",
       "2019-01-08 20:27:15.747    0.000524    0.000523    0.000522    0.000512   \n",
       "2019-01-08 20:27:16.073    0.000523    0.000522    0.000512    0.000509   \n",
       "2019-01-08 20:27:16.133    0.000522    0.000512    0.000509    0.000509   \n",
       "\n",
       "                         label(t+7)  \n",
       "time_index                           \n",
       "2019-01-08 20:27:15.340    0.000522  \n",
       "2019-01-08 20:27:15.380    0.000512  \n",
       "2019-01-08 20:27:15.747    0.000509  \n",
       "2019-01-08 20:27:16.073    0.000509  \n",
       "2019-01-08 20:27:16.133    0.000508  \n",
       "\n",
       "[5 rows x 1495 columns]"
      ]
     },
     "execution_count": 4,
     "metadata": {},
     "output_type": "execute_result"
    }
   ],
   "source": [
    "#create lookback dataset\n",
    "y_index = 0\n",
    "data_train = create_lookback_data(data_train,start_ind,30,y_index,7,dropnan=False)\n",
    "data_train.head()"
   ]
  },
  {
   "cell_type": "code",
   "execution_count": 5,
   "metadata": {},
   "outputs": [
    {
     "data": {
      "text/html": [
       "<div>\n",
       "<style scoped>\n",
       "    .dataframe tbody tr th:only-of-type {\n",
       "        vertical-align: middle;\n",
       "    }\n",
       "\n",
       "    .dataframe tbody tr th {\n",
       "        vertical-align: top;\n",
       "    }\n",
       "\n",
       "    .dataframe thead th {\n",
       "        text-align: right;\n",
       "    }\n",
       "</style>\n",
       "<table border=\"1\" class=\"dataframe\">\n",
       "  <thead>\n",
       "    <tr style=\"text-align: right;\">\n",
       "      <th></th>\n",
       "      <th>label(t-30)</th>\n",
       "      <th>regular_Ceiling_Floors_15(t-30)</th>\n",
       "      <th>regular_Trend_Speed_3(t-30)</th>\n",
       "      <th>regular_Last2_trend(t-30)</th>\n",
       "      <th>irregular_Dynamic_Pressure(t-30)</th>\n",
       "      <th>irregular_liquid_orderbook_slope(t-30)</th>\n",
       "      <th>regular_Consecutive_Large_Order_Flow(t-30)</th>\n",
       "      <th>regular_Ceiling_Floors_9(t-30)</th>\n",
       "      <th>regular_Ceiling_Floors_17(t-30)</th>\n",
       "      <th>regular_Ceiling_Floors_13(t-30)</th>\n",
       "      <th>...</th>\n",
       "      <th>regular_Ceiling_Floors_19(t)</th>\n",
       "      <th>regular_Ceiling_Floors_7(t)</th>\n",
       "      <th>irregular_liquid_hour(t)</th>\n",
       "      <th>label(t+1)</th>\n",
       "      <th>label(t+2)</th>\n",
       "      <th>label(t+3)</th>\n",
       "      <th>label(t+4)</th>\n",
       "      <th>label(t+5)</th>\n",
       "      <th>label(t+6)</th>\n",
       "      <th>label(t+7)</th>\n",
       "    </tr>\n",
       "    <tr>\n",
       "      <th>time_index</th>\n",
       "      <th></th>\n",
       "      <th></th>\n",
       "      <th></th>\n",
       "      <th></th>\n",
       "      <th></th>\n",
       "      <th></th>\n",
       "      <th></th>\n",
       "      <th></th>\n",
       "      <th></th>\n",
       "      <th></th>\n",
       "      <th></th>\n",
       "      <th></th>\n",
       "      <th></th>\n",
       "      <th></th>\n",
       "      <th></th>\n",
       "      <th></th>\n",
       "      <th></th>\n",
       "      <th></th>\n",
       "      <th></th>\n",
       "      <th></th>\n",
       "      <th></th>\n",
       "    </tr>\n",
       "  </thead>\n",
       "  <tbody>\n",
       "    <tr>\n",
       "      <th>2019-02-06 15:09:10.163</th>\n",
       "      <td>0.001612</td>\n",
       "      <td>0.001646</td>\n",
       "      <td>-5.079475e-07</td>\n",
       "      <td>-0.001214</td>\n",
       "      <td>0.553061</td>\n",
       "      <td>80221.452144</td>\n",
       "      <td>-0.000749</td>\n",
       "      <td>0.001148</td>\n",
       "      <td>0.001652</td>\n",
       "      <td>0.000978</td>\n",
       "      <td>...</td>\n",
       "      <td>-0.000825</td>\n",
       "      <td>0.000682</td>\n",
       "      <td>15.0</td>\n",
       "      <td>0.001628</td>\n",
       "      <td>0.001629</td>\n",
       "      <td>0.001629</td>\n",
       "      <td>0.001629</td>\n",
       "      <td>NaN</td>\n",
       "      <td>NaN</td>\n",
       "      <td>NaN</td>\n",
       "    </tr>\n",
       "    <tr>\n",
       "      <th>2019-02-06 15:09:11.123</th>\n",
       "      <td>0.001615</td>\n",
       "      <td>0.001646</td>\n",
       "      <td>-5.079475e-07</td>\n",
       "      <td>-0.001214</td>\n",
       "      <td>0.460543</td>\n",
       "      <td>85267.339842</td>\n",
       "      <td>-0.000749</td>\n",
       "      <td>0.001148</td>\n",
       "      <td>0.001652</td>\n",
       "      <td>0.000978</td>\n",
       "      <td>...</td>\n",
       "      <td>-0.000825</td>\n",
       "      <td>0.000682</td>\n",
       "      <td>15.0</td>\n",
       "      <td>0.001629</td>\n",
       "      <td>0.001629</td>\n",
       "      <td>0.001629</td>\n",
       "      <td>NaN</td>\n",
       "      <td>NaN</td>\n",
       "      <td>NaN</td>\n",
       "      <td>NaN</td>\n",
       "    </tr>\n",
       "    <tr>\n",
       "      <th>2019-02-06 15:09:12.000</th>\n",
       "      <td>0.001617</td>\n",
       "      <td>0.001646</td>\n",
       "      <td>-5.079475e-07</td>\n",
       "      <td>-0.001214</td>\n",
       "      <td>0.417240</td>\n",
       "      <td>87629.082210</td>\n",
       "      <td>-0.000749</td>\n",
       "      <td>0.001148</td>\n",
       "      <td>0.001652</td>\n",
       "      <td>0.000978</td>\n",
       "      <td>...</td>\n",
       "      <td>-0.000825</td>\n",
       "      <td>0.000682</td>\n",
       "      <td>15.0</td>\n",
       "      <td>0.001629</td>\n",
       "      <td>0.001629</td>\n",
       "      <td>NaN</td>\n",
       "      <td>NaN</td>\n",
       "      <td>NaN</td>\n",
       "      <td>NaN</td>\n",
       "      <td>NaN</td>\n",
       "    </tr>\n",
       "    <tr>\n",
       "      <th>2019-02-06 15:09:12.120</th>\n",
       "      <td>0.001617</td>\n",
       "      <td>0.001646</td>\n",
       "      <td>-5.079475e-07</td>\n",
       "      <td>-0.001214</td>\n",
       "      <td>0.417015</td>\n",
       "      <td>87641.335810</td>\n",
       "      <td>-0.000749</td>\n",
       "      <td>0.001148</td>\n",
       "      <td>0.001652</td>\n",
       "      <td>0.000978</td>\n",
       "      <td>...</td>\n",
       "      <td>-0.000825</td>\n",
       "      <td>0.000682</td>\n",
       "      <td>15.0</td>\n",
       "      <td>0.001629</td>\n",
       "      <td>NaN</td>\n",
       "      <td>NaN</td>\n",
       "      <td>NaN</td>\n",
       "      <td>NaN</td>\n",
       "      <td>NaN</td>\n",
       "      <td>NaN</td>\n",
       "    </tr>\n",
       "    <tr>\n",
       "      <th>2019-02-06 15:09:12.127</th>\n",
       "      <td>0.001619</td>\n",
       "      <td>0.001646</td>\n",
       "      <td>-5.079475e-07</td>\n",
       "      <td>-0.001214</td>\n",
       "      <td>0.366163</td>\n",
       "      <td>90414.765604</td>\n",
       "      <td>-0.000749</td>\n",
       "      <td>0.001148</td>\n",
       "      <td>0.001652</td>\n",
       "      <td>0.000978</td>\n",
       "      <td>...</td>\n",
       "      <td>-0.000825</td>\n",
       "      <td>0.000682</td>\n",
       "      <td>15.0</td>\n",
       "      <td>NaN</td>\n",
       "      <td>NaN</td>\n",
       "      <td>NaN</td>\n",
       "      <td>NaN</td>\n",
       "      <td>NaN</td>\n",
       "      <td>NaN</td>\n",
       "      <td>NaN</td>\n",
       "    </tr>\n",
       "  </tbody>\n",
       "</table>\n",
       "<p>5 rows × 1495 columns</p>\n",
       "</div>"
      ],
      "text/plain": [
       "                         label(t-30)  regular_Ceiling_Floors_15(t-30)  \\\n",
       "time_index                                                              \n",
       "2019-02-06 15:09:10.163     0.001612                         0.001646   \n",
       "2019-02-06 15:09:11.123     0.001615                         0.001646   \n",
       "2019-02-06 15:09:12.000     0.001617                         0.001646   \n",
       "2019-02-06 15:09:12.120     0.001617                         0.001646   \n",
       "2019-02-06 15:09:12.127     0.001619                         0.001646   \n",
       "\n",
       "                         regular_Trend_Speed_3(t-30)  \\\n",
       "time_index                                             \n",
       "2019-02-06 15:09:10.163                -5.079475e-07   \n",
       "2019-02-06 15:09:11.123                -5.079475e-07   \n",
       "2019-02-06 15:09:12.000                -5.079475e-07   \n",
       "2019-02-06 15:09:12.120                -5.079475e-07   \n",
       "2019-02-06 15:09:12.127                -5.079475e-07   \n",
       "\n",
       "                         regular_Last2_trend(t-30)  \\\n",
       "time_index                                           \n",
       "2019-02-06 15:09:10.163                  -0.001214   \n",
       "2019-02-06 15:09:11.123                  -0.001214   \n",
       "2019-02-06 15:09:12.000                  -0.001214   \n",
       "2019-02-06 15:09:12.120                  -0.001214   \n",
       "2019-02-06 15:09:12.127                  -0.001214   \n",
       "\n",
       "                         irregular_Dynamic_Pressure(t-30)  \\\n",
       "time_index                                                  \n",
       "2019-02-06 15:09:10.163                          0.553061   \n",
       "2019-02-06 15:09:11.123                          0.460543   \n",
       "2019-02-06 15:09:12.000                          0.417240   \n",
       "2019-02-06 15:09:12.120                          0.417015   \n",
       "2019-02-06 15:09:12.127                          0.366163   \n",
       "\n",
       "                         irregular_liquid_orderbook_slope(t-30)  \\\n",
       "time_index                                                        \n",
       "2019-02-06 15:09:10.163                            80221.452144   \n",
       "2019-02-06 15:09:11.123                            85267.339842   \n",
       "2019-02-06 15:09:12.000                            87629.082210   \n",
       "2019-02-06 15:09:12.120                            87641.335810   \n",
       "2019-02-06 15:09:12.127                            90414.765604   \n",
       "\n",
       "                         regular_Consecutive_Large_Order_Flow(t-30)  \\\n",
       "time_index                                                            \n",
       "2019-02-06 15:09:10.163                                   -0.000749   \n",
       "2019-02-06 15:09:11.123                                   -0.000749   \n",
       "2019-02-06 15:09:12.000                                   -0.000749   \n",
       "2019-02-06 15:09:12.120                                   -0.000749   \n",
       "2019-02-06 15:09:12.127                                   -0.000749   \n",
       "\n",
       "                         regular_Ceiling_Floors_9(t-30)  \\\n",
       "time_index                                                \n",
       "2019-02-06 15:09:10.163                        0.001148   \n",
       "2019-02-06 15:09:11.123                        0.001148   \n",
       "2019-02-06 15:09:12.000                        0.001148   \n",
       "2019-02-06 15:09:12.120                        0.001148   \n",
       "2019-02-06 15:09:12.127                        0.001148   \n",
       "\n",
       "                         regular_Ceiling_Floors_17(t-30)  \\\n",
       "time_index                                                 \n",
       "2019-02-06 15:09:10.163                         0.001652   \n",
       "2019-02-06 15:09:11.123                         0.001652   \n",
       "2019-02-06 15:09:12.000                         0.001652   \n",
       "2019-02-06 15:09:12.120                         0.001652   \n",
       "2019-02-06 15:09:12.127                         0.001652   \n",
       "\n",
       "                         regular_Ceiling_Floors_13(t-30)     ...      \\\n",
       "time_index                                                   ...       \n",
       "2019-02-06 15:09:10.163                         0.000978     ...       \n",
       "2019-02-06 15:09:11.123                         0.000978     ...       \n",
       "2019-02-06 15:09:12.000                         0.000978     ...       \n",
       "2019-02-06 15:09:12.120                         0.000978     ...       \n",
       "2019-02-06 15:09:12.127                         0.000978     ...       \n",
       "\n",
       "                         regular_Ceiling_Floors_19(t)  \\\n",
       "time_index                                              \n",
       "2019-02-06 15:09:10.163                     -0.000825   \n",
       "2019-02-06 15:09:11.123                     -0.000825   \n",
       "2019-02-06 15:09:12.000                     -0.000825   \n",
       "2019-02-06 15:09:12.120                     -0.000825   \n",
       "2019-02-06 15:09:12.127                     -0.000825   \n",
       "\n",
       "                         regular_Ceiling_Floors_7(t)  \\\n",
       "time_index                                             \n",
       "2019-02-06 15:09:10.163                     0.000682   \n",
       "2019-02-06 15:09:11.123                     0.000682   \n",
       "2019-02-06 15:09:12.000                     0.000682   \n",
       "2019-02-06 15:09:12.120                     0.000682   \n",
       "2019-02-06 15:09:12.127                     0.000682   \n",
       "\n",
       "                         irregular_liquid_hour(t)  label(t+1)  label(t+2)  \\\n",
       "time_index                                                                  \n",
       "2019-02-06 15:09:10.163                      15.0    0.001628    0.001629   \n",
       "2019-02-06 15:09:11.123                      15.0    0.001629    0.001629   \n",
       "2019-02-06 15:09:12.000                      15.0    0.001629    0.001629   \n",
       "2019-02-06 15:09:12.120                      15.0    0.001629         NaN   \n",
       "2019-02-06 15:09:12.127                      15.0         NaN         NaN   \n",
       "\n",
       "                         label(t+3)  label(t+4)  label(t+5)  label(t+6)  \\\n",
       "time_index                                                                \n",
       "2019-02-06 15:09:10.163    0.001629    0.001629         NaN         NaN   \n",
       "2019-02-06 15:09:11.123    0.001629         NaN         NaN         NaN   \n",
       "2019-02-06 15:09:12.000         NaN         NaN         NaN         NaN   \n",
       "2019-02-06 15:09:12.120         NaN         NaN         NaN         NaN   \n",
       "2019-02-06 15:09:12.127         NaN         NaN         NaN         NaN   \n",
       "\n",
       "                         label(t+7)  \n",
       "time_index                           \n",
       "2019-02-06 15:09:10.163         NaN  \n",
       "2019-02-06 15:09:11.123         NaN  \n",
       "2019-02-06 15:09:12.000         NaN  \n",
       "2019-02-06 15:09:12.120         NaN  \n",
       "2019-02-06 15:09:12.127         NaN  \n",
       "\n",
       "[5 rows x 1495 columns]"
      ]
     },
     "execution_count": 5,
     "metadata": {},
     "output_type": "execute_result"
    }
   ],
   "source": [
    "start_date = data_vali.index[0]\n",
    "start_ind = np.where(data_vali.index == start_date)[0][0]\n",
    "lag_period = 30\n",
    "y_index = 0\n",
    "data_vali = create_lookback_data(data_vali,start_ind,30,y_index,7,dropnan=False)\n",
    "data_vali.tail()"
   ]
  },
  {
   "cell_type": "code",
   "execution_count": 6,
   "metadata": {},
   "outputs": [
    {
     "name": "stdout",
     "output_type": "stream",
     "text": [
      "(1000000,) (1000000, 1494) (1000000,) (1000000, 1494)\n"
     ]
    }
   ],
   "source": [
    "data_train_y=data_train['label(t)']\n",
    "data_train_x=data_train.copy()\n",
    "del data_train_x['label(t)']\n",
    "\n",
    "data_vali_y=data_vali['label(t)']\n",
    "data_vali_x=data_vali.copy()\n",
    "del data_vali_x['label(t)']\n",
    "\n",
    "print(data_train_y.shape,data_train_x.shape,data_vali_y.shape,data_vali_x.shape)"
   ]
  },
  {
   "cell_type": "code",
   "execution_count": 7,
   "metadata": {},
   "outputs": [],
   "source": [
    "data_train_x.fillna(0,inplace=True)\n",
    "data_train_x.replace(np.inf,0,inplace=True)\n",
    "data_train_x.replace(-np.inf,0,inplace=True)\n",
    "\n",
    "data_train_y.fillna(0,inplace=True)\n",
    "data_train_y.replace(np.inf,0,inplace=True)\n",
    "data_train_y.replace(-np.inf,0,inplace=True)\n",
    "\n",
    "data_vali_x.fillna(0,inplace=True)\n",
    "data_vali_x.replace(np.inf,0,inplace=True)\n",
    "data_vali_x.replace(-np.inf,0,inplace=True)\n",
    "\n",
    "data_vali_y.fillna(0,inplace=True)\n",
    "data_vali_y.replace(np.inf,0,inplace=True)\n",
    "data_vali_y.replace(-np.inf,0,inplace=True)"
   ]
  },
  {
   "cell_type": "code",
   "execution_count": 8,
   "metadata": {},
   "outputs": [
    {
     "name": "stdout",
     "output_type": "stream",
     "text": [
      "(1000000, 1, 1494) (1000000,) (1000000, 1, 1494) (1000000,)\n"
     ]
    }
   ],
   "source": [
    "train_X = data_train_x.values.reshape((data_train_x.shape[0], 1, data_train_x.shape[1]))\n",
    "train_Y = data_train_y.values\n",
    "val_X = data_vali_x.values.reshape((data_vali_x.shape[0], 1, data_vali_x.shape[1]))\n",
    "val_Y = data_vali_y.values\n",
    "print(train_X.shape,train_Y.shape,val_X.shape,val_Y.shape)"
   ]
  },
  {
   "cell_type": "code",
   "execution_count": 9,
   "metadata": {
    "scrolled": true
   },
   "outputs": [
    {
     "name": "stderr",
     "output_type": "stream",
     "text": [
      "WARNING: Logging before flag parsing goes to stderr.\n",
      "W0301 22:44:34.685351 4556410304 deprecation_wrapper.py:119] From /Users/Chloe/anaconda3/lib/python3.7/site-packages/keras/backend/tensorflow_backend.py:422: The name tf.global_variables is deprecated. Please use tf.compat.v1.global_variables instead.\n",
      "\n"
     ]
    },
    {
     "name": "stdout",
     "output_type": "stream",
     "text": [
      "Train on 1000000 samples, validate on 1000000 samples\n",
      "Epoch 1/10\n",
      "1000000/1000000 [==============================] - 153s 153us/step - loss: 3.3561e-05 - val_loss: 2.6547e-06\n",
      "Epoch 2/10\n",
      "1000000/1000000 [==============================] - 162s 162us/step - loss: 4.6804e-06 - val_loss: 2.5606e-06\n",
      "Epoch 3/10\n",
      "1000000/1000000 [==============================] - 175s 175us/step - loss: 4.7755e-06 - val_loss: 2.5592e-06\n",
      "Epoch 4/10\n",
      "1000000/1000000 [==============================] - 166s 166us/step - loss: 4.7717e-06 - val_loss: 2.5615e-06\n",
      "Epoch 5/10\n",
      "1000000/1000000 [==============================] - 183s 183us/step - loss: 4.7714e-06 - val_loss: 2.5629e-06\n",
      "Epoch 6/10\n",
      "1000000/1000000 [==============================] - 371s 371us/step - loss: 4.7706e-06 - val_loss: 2.5623e-06\n",
      "Epoch 7/10\n",
      "1000000/1000000 [==============================] - 278s 278us/step - loss: 4.7704e-06 - val_loss: 2.5643e-06\n",
      "Epoch 8/10\n",
      "1000000/1000000 [==============================] - 153s 153us/step - loss: 4.7735e-06 - val_loss: 2.5618e-06\n",
      "Epoch 9/10\n",
      "1000000/1000000 [==============================] - 182s 182us/step - loss: 4.7723e-06 - val_loss: 2.5632e-06\n",
      "Epoch 10/10\n",
      "1000000/1000000 [==============================] - 176s 176us/step - loss: 4.7741e-06 - val_loss: 2.5624e-06\n"
     ]
    }
   ],
   "source": [
    "#stacked LSTMs\n",
    "model = Sequential()\n",
    "model.add(LSTM(100, return_sequences=True, input_shape=(train_X.shape[1], train_X.shape[2])))\n",
    "model.add(Dropout(0.2))\n",
    "model.add(LSTM(50))\n",
    "model.add(Dropout(0.1))\n",
    "model.add(Dense(1))\n",
    "model.compile(loss='mean_squared_error', optimizer='adam')\n",
    "\n",
    "# fit model\n",
    "history = model.fit(train_X, train_Y, epochs=10, batch_size=100, validation_data=(val_X, val_Y), verbose=1, shuffle=False)"
   ]
  },
  {
   "cell_type": "code",
   "execution_count": 11,
   "metadata": {},
   "outputs": [],
   "source": [
    "#%%test data\n",
    "Test1=pd.read_csv('Test1_factors_label_V1.csv')\n",
    "Test1.time_index=pd.to_datetime(Test1.time_index)\n",
    "Test1.set_index('time_index',inplace=True)\n",
    "Test1=Test1.iloc[:,1:]\n",
    "\n",
    "Test2=pd.read_csv('Test2_factors_label_V1.csv')\n",
    "Test2.time_index=pd.to_datetime(Test2.time_index)\n",
    "Test2.set_index('time_index',inplace=True)\n",
    "Test2=Test2.iloc[:,1:]"
   ]
  },
  {
   "cell_type": "code",
   "execution_count": 12,
   "metadata": {},
   "outputs": [],
   "source": [
    "start_date = Test1.index[0]\n",
    "start_ind = np.where(Test1.index == start_date)[0][0]\n",
    "lag_period = 30\n",
    "y_index = 0\n",
    "Test1 = create_lookback_data(Test1,start_ind,30,y_index,7,dropnan=False)\n",
    "\n",
    "start_date = Test2.index[0]\n",
    "start_ind = np.where(Test2.index == start_date)[0][0]\n",
    "lag_period = 30\n",
    "y_index = 0\n",
    "Test2 = create_lookback_data(Test2,start_ind,30,y_index,7,dropnan=False)"
   ]
  },
  {
   "cell_type": "code",
   "execution_count": 14,
   "metadata": {},
   "outputs": [
    {
     "name": "stdout",
     "output_type": "stream",
     "text": [
      "(1000000,) (1000000, 1494) (1000000,) (1000000, 1494)\n"
     ]
    }
   ],
   "source": [
    "Test1_y=Test1['label(t)']\n",
    "Test1_x=Test1.copy()\n",
    "del Test1_x['label(t)']\n",
    "\n",
    "Test2_y=Test2['label(t)']\n",
    "Test2_x=Test2.copy()\n",
    "del Test2_x['label(t)']\n",
    "\n",
    "print(Test1_y.shape,Test1_x.shape,Test2_y.shape,Test2_x.shape)"
   ]
  },
  {
   "cell_type": "code",
   "execution_count": 15,
   "metadata": {},
   "outputs": [],
   "source": [
    "Test1_x.fillna(0,inplace=True)\n",
    "Test1_x.replace(np.inf,0,inplace=True)\n",
    "Test1_x.replace(-np.inf,0,inplace=True)\n",
    "\n",
    "Test1_y.fillna(0,inplace=True)\n",
    "Test1_y.replace(np.inf,0,inplace=True)\n",
    "Test1_y.replace(-np.inf,0,inplace=True)\n",
    "\n",
    "Test2_x.fillna(0,inplace=True)\n",
    "Test2_x.replace(np.inf,0,inplace=True)\n",
    "Test2_x.replace(-np.inf,0,inplace=True)\n",
    "\n",
    "Test2_y.fillna(0,inplace=True)\n",
    "Test2_y.replace(np.inf,0,inplace=True)\n",
    "Test2_y.replace(-np.inf,0,inplace=True)"
   ]
  },
  {
   "cell_type": "code",
   "execution_count": 16,
   "metadata": {},
   "outputs": [
    {
     "name": "stdout",
     "output_type": "stream",
     "text": [
      "(1000000, 1, 1494) (1000000,) (1000000, 1, 1494) (1000000,)\n"
     ]
    }
   ],
   "source": [
    "Test1_X = Test1_x.values.reshape((Test1_x.shape[0], 1, Test1_x.shape[1]))\n",
    "Test1_Y = Test1_y.values\n",
    "Test2_X = Test2_x.values.reshape((Test2_x.shape[0], 1, Test2_x.shape[1]))\n",
    "Test2_Y = Test2_y.values\n",
    "print(Test1_X.shape,Test1_Y.shape,Test2_X.shape,Test2_Y.shape)"
   ]
  },
  {
   "cell_type": "code",
   "execution_count": 17,
   "metadata": {},
   "outputs": [],
   "source": [
    "val_pred = model.predict(val_X, verbose=0)\n",
    "y_pred1 = model.predict(Test1_X, verbose=0)\n",
    "y_pred2 = model.predict(Test2_X, verbose=0)"
   ]
  },
  {
   "cell_type": "code",
   "execution_count": 18,
   "metadata": {},
   "outputs": [],
   "source": [
    "def checkAcc(predict, y_test):\n",
    "    temp = np.multiply(predict, y_test)\n",
    "    res = [i for i in temp if i > 0]\n",
    "    acc = len(res)/len(predict)\n",
    "    print(\"direction prediction accuracy\", acc)\n",
    "    return acc"
   ]
  },
  {
   "cell_type": "code",
   "execution_count": 19,
   "metadata": {},
   "outputs": [
    {
     "name": "stdout",
     "output_type": "stream",
     "text": [
      "direction prediction accuracy 0.517051\n"
     ]
    },
    {
     "data": {
      "text/plain": [
       "0.517051"
      ]
     },
     "execution_count": 19,
     "metadata": {},
     "output_type": "execute_result"
    }
   ],
   "source": [
    "val_pred = val_pred.ravel()\n",
    "checkAcc(val_pred, val_Y)"
   ]
  },
  {
   "cell_type": "code",
   "execution_count": 20,
   "metadata": {},
   "outputs": [
    {
     "name": "stdout",
     "output_type": "stream",
     "text": [
      "direction prediction accuracy 0.51961\n"
     ]
    },
    {
     "data": {
      "text/plain": [
       "0.51961"
      ]
     },
     "execution_count": 20,
     "metadata": {},
     "output_type": "execute_result"
    }
   ],
   "source": [
    "y_pred1 = y_pred1.ravel()\n",
    "checkAcc(y_pred1, Test1_Y)"
   ]
  },
  {
   "cell_type": "code",
   "execution_count": 21,
   "metadata": {},
   "outputs": [
    {
     "name": "stdout",
     "output_type": "stream",
     "text": [
      "direction prediction accuracy 0.524384\n"
     ]
    },
    {
     "data": {
      "text/plain": [
       "0.524384"
      ]
     },
     "execution_count": 21,
     "metadata": {},
     "output_type": "execute_result"
    }
   ],
   "source": [
    "y_pred2 = y_pred2.ravel()\n",
    "checkAcc(y_pred2, Test2_Y)"
   ]
  },
  {
   "cell_type": "code",
   "execution_count": 1,
   "metadata": {},
   "outputs": [],
   "source": [
    "from itertools import permutations\n",
    "from collections import Counter"
   ]
  },
  {
   "cell_type": "code",
   "execution_count": 15,
   "metadata": {},
   "outputs": [
    {
     "data": {
      "text/plain": [
       "[('1', '2', '3'),\n",
       " ('1', '3', '2'),\n",
       " ('2', '1', '3'),\n",
       " ('2', '3', '1'),\n",
       " ('3', '1', '2'),\n",
       " ('3', '2', '1')]"
      ]
     },
     "execution_count": 15,
     "metadata": {},
     "output_type": "execute_result"
    }
   ],
   "source": [
    "n = 10\n",
    "s= str(n)\n",
    "a =list( permutations(s))\n",
    "a[0]\n",
    "int(''.join(a[0]))\n",
    "list(permutations(str(123)))"
   ]
  },
  {
   "cell_type": "code",
   "execution_count": 13,
   "metadata": {},
   "outputs": [],
   "source": [
    "def solve(n):\n",
    "    l = len(str(n))\n",
    "    if l <=3:\n",
    "        if n%8 == 0:\n",
    "            return \"YES\" \n",
    "    else:  \n",
    "        for i in permutations( str(n),3):\n",
    "            num = int(''.join(i))\n",
    "            if num %8 == 0:\n",
    "                return \"YES\"\n",
    "    return \"NO\""
   ]
  },
  {
   "cell_type": "code",
   "execution_count": null,
   "metadata": {},
   "outputs": [],
   "source": [
    "[line[i:i+3] for i in range(0, len(line)-3)]"
   ]
  },
  {
   "cell_type": "code",
   "execution_count": 14,
   "metadata": {},
   "outputs": [],
   "source": [
    "n = 51003309490753470524125270008606806367328593031305727464566556358"
   ]
  },
  {
   "cell_type": "code",
   "execution_count": 5,
   "metadata": {},
   "outputs": [
    {
     "data": {
      "text/plain": [
       "Counter({'0': 12,\n",
       "         '1': 3,\n",
       "         '2': 5,\n",
       "         '3': 9,\n",
       "         '4': 5,\n",
       "         '5': 10,\n",
       "         '6': 8,\n",
       "         '7': 6,\n",
       "         '8': 4,\n",
       "         '9': 3})"
      ]
     },
     "execution_count": 5,
     "metadata": {},
     "output_type": "execute_result"
    }
   ],
   "source": [
    "Counter(str(n))"
   ]
  },
  {
   "cell_type": "code",
   "execution_count": 15,
   "metadata": {},
   "outputs": [
    {
     "data": {
      "text/plain": [
       "'YES'"
      ]
     },
     "execution_count": 15,
     "metadata": {},
     "output_type": "execute_result"
    }
   ],
   "source": [
    "solve(n)"
   ]
  },
  {
   "cell_type": "code",
   "execution_count": 9,
   "metadata": {},
   "outputs": [
    {
     "data": {
      "text/plain": [
       "262080"
      ]
     },
     "execution_count": 9,
     "metadata": {},
     "output_type": "execute_result"
    }
   ],
   "source": [
    "len(a)"
   ]
  },
  {
   "cell_type": "code",
   "execution_count": null,
   "metadata": {},
   "outputs": [],
   "source": []
  }
 ],
 "metadata": {
  "kernelspec": {
   "display_name": "Python 3",
   "language": "python",
   "name": "python3"
  },
  "language_info": {
   "codemirror_mode": {
    "name": "ipython",
    "version": 3
   },
   "file_extension": ".py",
   "mimetype": "text/x-python",
   "name": "python",
   "nbconvert_exporter": "python",
   "pygments_lexer": "ipython3",
   "version": "3.7.3"
  }
 },
 "nbformat": 4,
 "nbformat_minor": 2
}
